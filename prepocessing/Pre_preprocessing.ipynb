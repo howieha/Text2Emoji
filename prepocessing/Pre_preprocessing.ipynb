{
 "cells": [
  {
   "cell_type": "code",
   "execution_count": 54,
   "metadata": {},
   "outputs": [],
   "source": [
    "import pandas as pd\n",
    "from tqdm import tqdm\n",
    "import re\n",
    "import sentencepiece as spm\n",
    "import matplotlib.pyplot as plt\n",
    "import numpy as np\n",
    "from sklearn import preprocessing\n",
    "import pickle\n",
    "from collections import Counter\n",
    "# function for removing emojis in texts\n",
    "import emoji"
   ]
  },
  {
   "cell_type": "code",
   "execution_count": 30,
   "metadata": {},
   "outputs": [],
   "source": [
    "\n"
   ]
  },
  {
   "cell_type": "code",
   "execution_count": 28,
   "metadata": {},
   "outputs": [],
   "source": [
    "# remove emojis, line carriage, @, and links from text\n",
    "def dirtyRemoval(text):\n",
    "    # remove emojis in texts\n",
    "    temp = emoji.get_emoji_regexp().sub(u'', text)\n",
    "    # merge multiple lines\n",
    "    temp = temp.replace(\"\\n\", \"\")\n",
    "    # remove '@'\n",
    "    temp = re.sub(r'\\@\\w+\\s', '', temp)\n",
    "    # remove links\n",
    "    temp = re.sub(r\"http\\S+\", \"\", temp)\n",
    "    return temp"
   ]
  },
  {
   "cell_type": "code",
   "execution_count": 42,
   "metadata": {},
   "outputs": [
    {
     "name": "stdout",
     "output_type": "stream",
     "text": [
      "RT @Hitz1039Fm: #MusikBox   w/ #DostyMan ️  I BELIEVE –  cc:  #Hitz1039FM \n"
     ]
    }
   ],
   "source": [
    "temp1 = \"\"\"RT @Hitz1039Fm: #MusikBox  🔥 w/ @andydosty #DostyMan 🇬🇭\n",
    "\n",
    "▶️  I BELIEVE – @ANDYDOSTY  🎧\n",
    "\n",
    "cc: @MrHaglah @MawuWan @FlyNimaBoy 💯 #Hitz1039FM 📢\"\"\"\n",
    "\n",
    "print(dirtyRemoval(temp1))"
   ]
  },
  {
   "cell_type": "code",
   "execution_count": 1,
   "metadata": {},
   "outputs": [
    {
     "name": "stdout",
     "output_type": "stream",
     "text": [
      "Collecting sentencepiece\n",
      "\u001b[?25l  Downloading https://files.pythonhosted.org/packages/db/7d/f077c7d6c8dc958207960896b35ca1bbf6128527b8a6d4c4aef862660489/sentencepiece-0.1.83-cp37-cp37m-macosx_10_6_x86_64.whl (1.1MB)\n",
      "\u001b[K    100% |████████████████████████████████| 1.1MB 9.4MB/s eta 0:00:01\n",
      "\u001b[?25hInstalling collected packages: sentencepiece\n",
      "Successfully installed sentencepiece-0.1.83\n",
      "\u001b[33mYou are using pip version 19.1.1, however version 19.3.1 is available.\n",
      "You should consider upgrading via the 'pip install --upgrade pip' command.\u001b[0m\n"
     ]
    }
   ],
   "source": [
    "# import sentencepiece tokenizer\n",
    "import sys\n",
    "!{sys.executable} -m pip install sentencepiece"
   ]
  },
  {
   "cell_type": "code",
   "execution_count": 40,
   "metadata": {},
   "outputs": [
    {
     "name": "stdout",
     "output_type": "stream",
     "text": [
      "572095\n",
      "1000000\n"
     ]
    }
   ],
   "source": [
    "# test set\n",
    "id_text = pd.read_csv('../data/full_test_id_text.csv', sep='\\t', header=[0], lineterminator='\\n')\n",
    "id_text.columns = ['ID', 'TEXT']\n",
    "\n",
    "id_emoji = pd.read_csv('../data/full_test_plaintext.txt', sep='\\t', header=[0], lineterminator='\\n')\n",
    "id_emoji.columns = ['ID','EMOJI']\n",
    "\n",
    "print(len(id_text))\n",
    "print(len(id_emoji))"
   ]
  },
  {
   "cell_type": "code",
   "execution_count": 41,
   "metadata": {},
   "outputs": [
    {
     "name": "stdout",
     "output_type": "stream",
     "text": [
      "<class 'str'>\n",
      "<class 'numpy.int64'>\n"
     ]
    }
   ],
   "source": [
    "print(type(id_emoji.ID.iloc[10]))\n",
    "print(type(id_text.ID.iloc[10]))\n",
    "id_text['ID'] = id_text['ID'].apply(str)"
   ]
  },
  {
   "cell_type": "code",
   "execution_count": 42,
   "metadata": {},
   "outputs": [
    {
     "name": "stdout",
     "output_type": "stream",
     "text": [
      "572095\n"
     ]
    }
   ],
   "source": [
    "# inner join the two dataframes\n",
    "text_emoji = pd.merge(id_text, id_emoji, on=\"ID\", how=\"inner\")\n",
    "\n",
    "print(len(text_emoji))"
   ]
  },
  {
   "cell_type": "code",
   "execution_count": 43,
   "metadata": {},
   "outputs": [],
   "source": [
    "text_emoji['TEXT'] = text_emoji.TEXT.apply(dirtyRemoval)"
   ]
  },
  {
   "cell_type": "code",
   "execution_count": 44,
   "metadata": {},
   "outputs": [],
   "source": [
    "text_emoji.to_csv('../data/text_emoji_test.txt', index=False)"
   ]
  },
  {
   "cell_type": "code",
   "execution_count": 45,
   "metadata": {},
   "outputs": [
    {
     "name": "stdout",
     "output_type": "stream",
     "text": [
      "571932\n",
      "1000000\n"
     ]
    }
   ],
   "source": [
    "# validation set\n",
    "id_text = pd.read_csv('../data/full_valid_id_text.csv', sep='\\t', header=[0], lineterminator='\\n')\n",
    "id_text.columns = ['ID', 'TEXT']\n",
    "id_text['ID'] = id_text['ID'].apply(str)\n",
    "\n",
    "id_emoji = pd.read_csv('../data/full_valid_plaintext.txt', sep='\\t', header=[0], lineterminator='\\n')\n",
    "id_emoji.columns = ['ID','EMOJI']\n",
    "\n",
    "print(len(id_text))\n",
    "print(len(id_emoji))"
   ]
  },
  {
   "cell_type": "code",
   "execution_count": 46,
   "metadata": {},
   "outputs": [
    {
     "name": "stdout",
     "output_type": "stream",
     "text": [
      "571932\n"
     ]
    }
   ],
   "source": [
    "text_emoji = pd.merge(id_text, id_emoji, on=\"ID\", how=\"inner\")\n",
    "print(len(text_emoji))\n",
    "text_emoji['TEXT'] = text_emoji.TEXT.apply(dirtyRemoval)\n",
    "text_emoji.to_csv('../data/text_emoji_valid.txt', index=False)"
   ]
  },
  {
   "cell_type": "code",
   "execution_count": 47,
   "metadata": {},
   "outputs": [
    {
     "name": "stdout",
     "output_type": "stream",
     "text": [
      "7443390\n",
      "12997219\n"
     ]
    }
   ],
   "source": [
    "# training set\n",
    "id_text = pd.read_csv('../data/full_train_id_text.csv', sep='\\t', header=[0], lineterminator='\\n')\n",
    "id_text.columns = ['ID', 'TEXT']\n",
    "id_text['ID'] = id_text['ID'].apply(str)\n",
    "\n",
    "id_emoji = pd.read_csv('../data/full_train_plaintext.txt', sep='\\t', header=[0], lineterminator='\\n')\n",
    "id_emoji.columns = ['ID','EMOJI']\n",
    "\n",
    "\n",
    "print(len(id_text))\n",
    "print(len(id_emoji))"
   ]
  },
  {
   "cell_type": "code",
   "execution_count": 49,
   "metadata": {},
   "outputs": [
    {
     "name": "stdout",
     "output_type": "stream",
     "text": [
      "7443390\n"
     ]
    }
   ],
   "source": [
    "text_emoji = pd.merge(id_text, id_emoji, on=\"ID\", how=\"inner\")\n",
    "print(len(text_emoji))\n",
    "text_emoji['TEXT'] = text_emoji.TEXT.apply(dirtyRemoval)\n",
    "text_emoji.to_csv('../data/text_emoji_train.txt', index=False)"
   ]
  },
  {
   "cell_type": "code",
   "execution_count": 50,
   "metadata": {},
   "outputs": [],
   "source": [
    "# text for training tokenizer\n",
    "with open('../data/text_train.txt', 'w') as f:\n",
    "    for item in text_emoji['TEXT'].tolist():\n",
    "        f.write(\"%s\\n\" % item)\n"
   ]
  },
  {
   "cell_type": "code",
   "execution_count": 51,
   "metadata": {},
   "outputs": [
    {
     "data": {
      "text/plain": [
       "True"
      ]
     },
     "execution_count": 51,
     "metadata": {},
     "output_type": "execute_result"
    }
   ],
   "source": [
    "# train the SentencePiece tokenizer\n",
    "\n",
    "spm.SentencePieceTrainer.Train('--input=../data/text_train.txt --model_prefix=tokenizer --vocab_size=32000')\n"
   ]
  },
  {
   "cell_type": "code",
   "execution_count": 5,
   "metadata": {},
   "outputs": [
    {
     "data": {
      "text/plain": [
       "True"
      ]
     },
     "execution_count": 5,
     "metadata": {},
     "output_type": "execute_result"
    }
   ],
   "source": [
    "# load tokenizer\n",
    "tokenizer = spm.SentencePieceProcessor()\n",
    "tokenizer.Load('./tokenizer.model')"
   ]
  },
  {
   "cell_type": "code",
   "execution_count": 7,
   "metadata": {},
   "outputs": [],
   "source": [
    "# tokenize test set texts\n",
    "# for i in ['test', 'valid', 'train']:\n",
    "for i in ['train']:\n",
    "    temp = pd.read_csv('../data/text_emoji_%s.txt' % i, sep=',', header=[0], lineterminator='\\n')\n",
    "    temp.columns = ['ID', 'TEXT', 'EMOJI']\n",
    "    temp['TEXT'] = temp.TEXT.apply(str)\n",
    "    temp['TEXT_ID'] = temp.TEXT.apply(tokenizer.EncodeAsIds)\n",
    "    temp.to_csv('../data/%s.txt' % i, index=False)"
   ]
  },
  {
   "cell_type": "code",
   "execution_count": 61,
   "metadata": {},
   "outputs": [
    {
     "name": "stdout",
     "output_type": "stream",
     "text": [
      "0                                               [1182, 654]\n",
      "1         [12, 9, 2554, 13706, 13, 981, 2199, 230, 1713,...\n",
      "2         [3962, 169, 425, 4, 159, 1576, 1004, 1407, 124...\n",
      "3         [12, 9, 341, 527, 982, 2632, 7175, 117, 1152, ...\n",
      "4              [78, 709, 853, 3, 4, 23, 30, 275, 23234, 28]\n",
      "5         [5647, 4055, 16, 1645, 4055, 36, 6, 18630, 477...\n",
      "6                           [32, 95, 33, 25, 18, 9224, 711]\n",
      "7           [3, 1499, 8, 292, 21, 8, 7, 42, 11, 178, 7, 40]\n",
      "8                          [259, 46, 44, 39, 56, 197, 1011]\n",
      "9                         [69, 4353, 175, 104, 11, 154, 92]\n",
      "10                             [3, 8976, 34, 29, 1309, 296]\n",
      "11        [210, 249, 8, 52, 5679, 20, 2433, 24, 276, 321...\n",
      "12        [155, 19927, 5, 25, 14, 28796, 26, 2583, 1488,...\n",
      "13                          [191, 1109, 809, 22, 6939, 114]\n",
      "14                                [121, 4, 5, 708, 570, 36]\n",
      "15                                         [22181, 91, 130]\n",
      "16                          [1055, 30, 380, 14, 8617, 8736]\n",
      "17                                       [245, 10, 976, 10]\n",
      "18                                       [3, 829, 138, 515]\n",
      "19                     [3, 3144, 105, 8176, 389, 8712, 200]\n",
      "20                                       [18661, 136, 7183]\n",
      "21        [8404, 514, 57, 4, 15, 75, 29, 956, 109, 25, 1...\n",
      "22        [84, 6729, 26, 3523, 51, 237, 13, 3169, 2069, ...\n",
      "23        [167, 7, 24, 3242, 3, 4, 23, 85, 4513, 16, 153...\n",
      "24        [66, 151, 108, 27, 196, 4, 159, 1997, 33, 532,...\n",
      "25          [12, 9, 2655, 8498, 3624, 2313, 8900, 14, 8042]\n",
      "26                             [121, 4, 5, 84, 12719, 6900]\n",
      "27                     [259, 70, 96, 416, 22, 53, 125, 398]\n",
      "28                       [3, 5995, 1850, 286, 3, 591, 9421]\n",
      "29        [7947, 19, 5230, 550, 91, 29, 2525, 523, 9712,...\n",
      "                                ...                        \n",
      "572065    [3, 50, 125, 449, 799, 2754, 20, 3, 4, 23, 303...\n",
      "572066                           [996, 23540, 16, 154, 957]\n",
      "572067    [12, 9, 11053, 720, 1012, 13, 5198, 1887, 3806...\n",
      "572068    [2852, 16599, 16599, 16599, 16599, 16599, 1659...\n",
      "572069                        [107, 72, 608, 86, 11642, 19]\n",
      "572070                  [68, 127, 210, 2154, 7, 4, 54, 266]\n",
      "572071     [1417, 311, 5, 1152, 104, 1001, 824, 7485, 9892]\n",
      "572072    [1251, 1523, 365, 3279, 76, 1081, 51, 4209, 5,...\n",
      "572073                                [45, 4, 15, 203, 218]\n",
      "572074                                              [25174]\n",
      "572075                       [15506, 445, 477, 5, 7874, 10]\n",
      "572076                   [65, 45, 48, 33, 11, 1086, 64, 35]\n",
      "572077                                       [374, 268, 29]\n",
      "572078    [12, 9, 9822, 199, 12869, 2806, 13, 474, 4, 5,...\n",
      "572079        [12993, 13482, 4027, 1582, 19439, 5587, 5490]\n",
      "572080    [28, 2043, 2044, 1860, 1570, 1573, 12115, 140,...\n",
      "572081        [40, 7, 94, 8, 134, 138, 3907, 2565, 24, 863]\n",
      "572082    [12, 9, 11342, 11952, 10482, 13, 425, 11300, 4...\n",
      "572083                                                [359]\n",
      "572084    [7, 380, 14, 266, 354, 19, 37, 7, 71, 1596, 5,...\n",
      "572085                            [3, 639, 8, 18813, 23614]\n",
      "572086    [65, 7, 366, 58, 7, 30, 11, 1644, 1247, 57, 4,...\n",
      "572087           [121, 4, 5, 31, 3230, 18, 5047, 56, 19048]\n",
      "572088              [3, 4, 23, 82, 68, 24, 611, 3, 566, 10]\n",
      "572089    [12, 9, 21169, 10812, 5341, 13, 93, 30, 18, 3668]\n",
      "572090                                              [11141]\n",
      "572091                                          [1359, 842]\n",
      "572092                                         [3, 61, 594]\n",
      "572093                                            [101, 26]\n",
      "572094    [12, 9, 8039, 574, 14606, 357, 6716, 1368, 806...\n",
      "Name: TEXT_ID, Length: 572095, dtype: object\n",
      "81 0 13.101393999248376\n"
     ]
    }
   ],
   "source": [
    "print(test['TEXT_ID'])\n",
    "# check sentence length statistics\n",
    "tempList = test.TEXT_ID.tolist()\n",
    "lengthList = [len(i) for i in tempList]\n",
    "maxLength = max(lengthList)\n",
    "minLength = min(lengthList)\n",
    "avgLength = sum(lengthList)/len(lengthList)\n",
    "print(maxLength, minLength, avgLength)\n",
    "\n"
   ]
  },
  {
   "cell_type": "code",
   "execution_count": 63,
   "metadata": {},
   "outputs": [
    {
     "data": {
      "text/plain": [
       "(array([1.0000e+00, 1.0208e+04, 2.5204e+04, 2.9432e+04, 3.2281e+04,\n",
       "        3.2141e+04, 3.0373e+04, 2.8935e+04, 2.8581e+04, 2.7466e+04,\n",
       "        2.6347e+04, 2.4616e+04, 2.3490e+04, 2.1731e+04, 1.9771e+04,\n",
       "        1.8596e+04, 1.7322e+04, 1.6170e+04, 1.5012e+04, 1.3926e+04,\n",
       "        1.3053e+04, 1.2271e+04, 1.1247e+04, 1.0710e+04, 9.8980e+03,\n",
       "        9.1470e+03, 8.5290e+03, 7.9160e+03, 6.9940e+03, 6.3800e+03,\n",
       "        5.9660e+03, 5.4500e+03, 4.6540e+03, 3.7850e+03, 3.2740e+03,\n",
       "        2.5850e+03, 2.0490e+03, 1.6750e+03, 1.3400e+03, 9.8100e+02,\n",
       "        6.4700e+02, 5.1100e+02, 3.8300e+02, 2.9200e+02, 1.7700e+02,\n",
       "        1.3900e+02, 9.9000e+01, 8.2000e+01, 6.5000e+01, 5.1000e+01,\n",
       "        2.9000e+01, 3.4000e+01, 1.9000e+01, 1.3000e+01, 1.0000e+01,\n",
       "        7.0000e+00, 1.1000e+01, 3.0000e+00, 7.0000e+00, 2.0000e+00,\n",
       "        0.0000e+00, 3.0000e+00, 0.0000e+00, 0.0000e+00, 0.0000e+00,\n",
       "        1.0000e+00, 0.0000e+00, 0.0000e+00, 1.0000e+00, 0.0000e+00,\n",
       "        0.0000e+00, 0.0000e+00, 1.0000e+00, 0.0000e+00, 0.0000e+00,\n",
       "        0.0000e+00, 0.0000e+00, 0.0000e+00, 0.0000e+00, 0.0000e+00,\n",
       "        1.0000e+00]),\n",
       " array([ 0,  1,  2,  3,  4,  5,  6,  7,  8,  9, 10, 11, 12, 13, 14, 15, 16,\n",
       "        17, 18, 19, 20, 21, 22, 23, 24, 25, 26, 27, 28, 29, 30, 31, 32, 33,\n",
       "        34, 35, 36, 37, 38, 39, 40, 41, 42, 43, 44, 45, 46, 47, 48, 49, 50,\n",
       "        51, 52, 53, 54, 55, 56, 57, 58, 59, 60, 61, 62, 63, 64, 65, 66, 67,\n",
       "        68, 69, 70, 71, 72, 73, 74, 75, 76, 77, 78, 79, 80, 81]),\n",
       " <a list of 81 Patch objects>)"
      ]
     },
     "execution_count": 63,
     "metadata": {},
     "output_type": "execute_result"
    },
    {
     "data": {
      "image/png": "[encoded data removed]",
      "text/plain": [
       "<Figure size 432x288 with 1 Axes>"
      ]
     },
     "metadata": {
      "needs_background": "light"
     },
     "output_type": "display_data"
    }
   ],
   "source": [
    "\n",
    "plt.hist(lengthList, bins=np.arange(minLength, maxLength+1))"
   ]
  },
  {
   "cell_type": "code",
   "execution_count": 60,
   "metadata": {},
   "outputs": [
    {
     "data": {
      "text/plain": [
       "2.0"
      ]
     },
     "execution_count": 60,
     "metadata": {},
     "output_type": "execute_result"
    }
   ],
   "source": [
    "sum([1,2,3])/len([1,2,3])"
   ]
  },
  {
   "cell_type": "code",
   "execution_count": 64,
   "metadata": {},
   "outputs": [],
   "source": [
    "test.to_csv('../data/test.txt', index=False)"
   ]
  },
  {
   "cell_type": "code",
   "execution_count": 9,
   "metadata": {},
   "outputs": [
    {
     "name": "stdout",
     "output_type": "stream",
     "text": [
      "1300\n"
     ]
    }
   ],
   "source": [
    "# get all classes from training set\n",
    "train = pd.read_csv('../data/train.txt', sep=',', header=[0], lineterminator='\\n')\n",
    "train.columns = ['ID', 'TEXT', 'EMOJI', 'TEXT_ID']\n",
    "emoji_set = set()\n",
    "for i in train['EMOJI'].tolist():\n",
    "    emoji_set = emoji_set.union(set(i.split(',')))\n",
    "    \n",
    "print(len(emoji_set))"
   ]
  },
  {
   "cell_type": "code",
   "execution_count": 28,
   "metadata": {},
   "outputs": [
    {
     "data": {
      "text/plain": [
       "1300"
      ]
     },
     "execution_count": 28,
     "metadata": {},
     "output_type": "execute_result"
    }
   ],
   "source": [
    "# encode multi-class labels\n",
    "\n",
    "le = preprocessing.LabelEncoder()\n",
    "\n",
    "emoji_list = list(emoji_set)\n",
    "le.fit(emoji_list)\n",
    "\n",
    "len(le.classes_)\n"
   ]
  },
  {
   "cell_type": "code",
   "execution_count": 29,
   "metadata": {},
   "outputs": [],
   "source": [
    "# save the label encoder using pickle\n",
    "\n",
    "with open('labelEncoder.pickle', 'wb') as handle:\n",
    "    pickle.dump(le, handle, protocol=pickle.HIGHEST_PROTOCOL)\n",
    "\n",
    "    \n",
    "    \n",
    "# use scripts below to load model\n",
    "# with open('labelEncoder.pickle', 'rb') as handle:\n",
    "#     le = pickle.load(handle)"
   ]
  },
  {
   "cell_type": "code",
   "execution_count": 33,
   "metadata": {},
   "outputs": [],
   "source": [
    "# split the string in \"EMOJI\" into multiple emoji IDs\n",
    "def listEmoji(string):\n",
    "    return string.split(',')\n"
   ]
  },
  {
   "cell_type": "code",
   "execution_count": 34,
   "metadata": {},
   "outputs": [
    {
     "name": "stdout",
     "output_type": "stream",
     "text": [
      "0                [762, 859, 865]\n",
      "1                     [77, 1381]\n",
      "2                         [1420]\n",
      "3                         [1438]\n",
      "4                         [1403]\n",
      "5             [1107, 1424, 1466]\n",
      "6                   [1056, 1381]\n",
      "7                         [1447]\n",
      "8               [550, 764, 1069]\n",
      "9                   [1105, 1403]\n",
      "10              [174, 550, 1097]\n",
      "11                   [763, 1057]\n",
      "12                        [1397]\n",
      "13                        [1056]\n",
      "14                   [761, 1475]\n",
      "15                         [865]\n",
      "16                        [1381]\n",
      "17                     [47, 883]\n",
      "18                        [1445]\n",
      "19                        [1381]\n",
      "20                        [1381]\n",
      "21                        [1381]\n",
      "22                        [1466]\n",
      "23                        [1407]\n",
      "24                        [1421]\n",
      "25                        [1447]\n",
      "26                        [1381]\n",
      "27                        [1466]\n",
      "28                    [763, 883]\n",
      "29         [763, 764, 765, 1341]\n",
      "                   ...          \n",
      "7443360               [764, 883]\n",
      "7443361                   [1447]\n",
      "7443362              [764, 1493]\n",
      "7443363                    [546]\n",
      "7443364                   [1107]\n",
      "7443365                    [545]\n",
      "7443366                   [1466]\n",
      "7443367                    [883]\n",
      "7443368                    [830]\n",
      "7443369                    [675]\n",
      "7443370             [1432, 1620]\n",
      "7443371                     [78]\n",
      "7443372                   [1430]\n",
      "7443373                   [1444]\n",
      "7443374                   [1397]\n",
      "7443375                   [1210]\n",
      "7443376                   [1381]\n",
      "7443377              [763, 1475]\n",
      "7443378                   [1406]\n",
      "7443379                   [1447]\n",
      "7443380                   [1424]\n",
      "7443381                     [78]\n",
      "7443382       [1436, 1438, 1454]\n",
      "7443383                   [1389]\n",
      "7443384                   [1379]\n",
      "7443385                   [1381]\n",
      "7443386                   [1056]\n",
      "7443387               [761, 865]\n",
      "7443388                   [1116]\n",
      "7443389                   [1213]\n",
      "Name: EMOJI, Length: 7443390, dtype: object\n"
     ]
    }
   ],
   "source": [
    "train['EMOJI'] = train.EMOJI.apply(listEmoji)\n",
    "print(train.EMOJI)\n",
    "\n"
   ]
  },
  {
   "cell_type": "code",
   "execution_count": 35,
   "metadata": {},
   "outputs": [
    {
     "name": "stdout",
     "output_type": "stream",
     "text": [
      "0               [1157, 1243, 1245]\n",
      "1                      [1165, 317]\n",
      "2                            [361]\n",
      "3                            [380]\n",
      "4                            [342]\n",
      "5                   [50, 365, 394]\n",
      "6                        [23, 317]\n",
      "7                            [390]\n",
      "8                  [952, 1159, 27]\n",
      "9                        [48, 342]\n",
      "10                  [521, 952, 38]\n",
      "11                      [1158, 24]\n",
      "12                           [334]\n",
      "13                            [23]\n",
      "14                     [1156, 398]\n",
      "15                          [1245]\n",
      "16                           [317]\n",
      "17                     [862, 1250]\n",
      "18                           [388]\n",
      "19                           [317]\n",
      "20                           [317]\n",
      "21                           [317]\n",
      "22                           [394]\n",
      "23                           [346]\n",
      "24                           [362]\n",
      "25                           [390]\n",
      "26                           [317]\n",
      "27                           [394]\n",
      "28                    [1158, 1250]\n",
      "29         [1158, 1159, 1160, 287]\n",
      "                    ...           \n",
      "7443360               [1159, 1250]\n",
      "7443361                      [390]\n",
      "7443362                [1159, 401]\n",
      "7443363                      [947]\n",
      "7443364                       [50]\n",
      "7443365                      [946]\n",
      "7443366                      [394]\n",
      "7443367                     [1250]\n",
      "7443368                     [1233]\n",
      "7443369                     [1081]\n",
      "7443370                 [374, 499]\n",
      "7443371                     [1176]\n",
      "7443372                      [372]\n",
      "7443373                      [387]\n",
      "7443374                      [334]\n",
      "7443375                      [160]\n",
      "7443376                      [317]\n",
      "7443377                [1158, 398]\n",
      "7443378                      [345]\n",
      "7443379                      [390]\n",
      "7443380                      [365]\n",
      "7443381                     [1176]\n",
      "7443382            [378, 380, 392]\n",
      "7443383                      [325]\n",
      "7443384                      [314]\n",
      "7443385                      [317]\n",
      "7443386                       [23]\n",
      "7443387               [1156, 1245]\n",
      "7443388                       [60]\n",
      "7443389                      [163]\n",
      "Name: EMOJI_ID, Length: 7443390, dtype: object\n"
     ]
    }
   ],
   "source": [
    "train['EMOJI_ID'] = train.EMOJI.apply(le.transform)\n",
    "print(train.EMOJI_ID)"
   ]
  },
  {
   "cell_type": "code",
   "execution_count": 48,
   "metadata": {},
   "outputs": [],
   "source": [
    "train.to_csv('../data/train_final.txt', index=False)"
   ]
  },
  {
   "cell_type": "code",
   "execution_count": 52,
   "metadata": {},
   "outputs": [
    {
     "data": {
      "text/plain": [
       "(array([1.9700e+02, 8.0000e+00, 2.6700e+02, ..., 1.0753e+04, 1.2900e+03,\n",
       "        2.2990e+03]),\n",
       " array([   0,    1,    2, ..., 1297, 1298, 1299]),\n",
       " <a list of 1299 Patch objects>)"
      ]
     },
     "execution_count": 52,
     "metadata": {},
     "output_type": "execute_result"
    },
    {
     "data": {
      "image/png": "[encoded data removed]",
      "text/plain": [
       "<Figure size 432x288 with 1 Axes>"
      ]
     },
     "metadata": {
      "needs_background": "light"
     },
     "output_type": "display_data"
    }
   ],
   "source": [
    "# Statistics for class labels:\n",
    "\n",
    "allTrainEmoji = []\n",
    "for i in train['EMOJI_ID'].tolist():\n",
    "    allTrainEmoji += list(set(i.tolist()))\n",
    "\n",
    "plt.hist(allTrainEmoji, bins=np.arange(0, len(le.classes_)))\n",
    "\n",
    "\n"
   ]
  },
  {
   "cell_type": "code",
   "execution_count": 56,
   "metadata": {},
   "outputs": [
    {
     "name": "stdout",
     "output_type": "stream",
     "text": [
      "[(317, 782111), (329, 302374), (365, 287556), (552, 287442), (390, 269360)]\n",
      "originalID:  ['1381' '1392' '1424' '186' '1447']\n",
      "7735.71\n"
     ]
    }
   ],
   "source": [
    "# Counts for each label\n",
    "counts = Counter(allTrainEmoji)\n",
    "\n",
    "# 5 most common emojis\n",
    "mostCommon5 = counts.most_common(5)\n",
    "print(mostCommon5)\n",
    "\n",
    "# Original IDs (+2 to refer to CSV mapping) of the most common 5 emojis\n",
    "originalID = le.inverse_transform([i[0] for i in mostCommon5])\n",
    "print(\"originalID: \", originalID)\n",
    "\n",
    "# average counts\n",
    "print(sum(counts.values())/len(counts.values()))\n"
   ]
  },
  {
   "cell_type": "code",
   "execution_count": 47,
   "metadata": {},
   "outputs": [
    {
     "data": {
      "text/plain": [
       "7443390"
      ]
     },
     "execution_count": 47,
     "metadata": {},
     "output_type": "execute_result"
    }
   ],
   "source": [
    "# create CSR Matrix based on EMOJI_ID\n",
    "shape_csr = (len(train), len(le.classes_))\n",
    "\n",
    "row = []\n",
    "col = []\n",
    "\n",
    "row_idx = 0\n",
    "for c, emoji_ids in enumerate(train.EMOJI_ID.tolist()):\n",
    "    tempEmoji = set(emoji_ids)\n",
    "    row += [row_idx] * len(tempEmoji)  \n",
    "    col += emoji_ids.tolist()\n",
    "    row_idx += 1\n",
    "        \n"
   ]
  },
  {
   "cell_type": "code",
   "execution_count": null,
   "metadata": {},
   "outputs": [],
   "source": []
  },
  {
   "cell_type": "code",
   "execution_count": 36,
   "metadata": {},
   "outputs": [
    {
     "name": "stdout",
     "output_type": "stream",
     "text": [
      "7443390\n"
     ]
    }
   ],
   "source": [
    "print(len(train))"
   ]
  }
 ],
 "metadata": {
  "kernelspec": {
   "display_name": "Python 3",
   "language": "python",
   "name": "python3"
  },
  "language_info": {
   "codemirror_mode": {
    "name": "ipython",
    "version": 3
   },
   "file_extension": ".py",
   "mimetype": "text/x-python",
   "name": "python",
   "nbconvert_exporter": "python",
   "pygments_lexer": "ipython3",
   "version": "3.7.1"
  }
 },
 "nbformat": 4,
 "nbformat_minor": 2
}
