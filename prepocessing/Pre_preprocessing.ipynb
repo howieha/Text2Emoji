{
 "cells": [
  {
   "cell_type": "code",
   "execution_count": 60,
   "metadata": {},
   "outputs": [
    {
     "name": "stdout",
     "output_type": "stream",
     "text": [
      "Requirement already satisfied: sentencepiece in /Users/QSJ/anaconda3/envs/CSE5525/lib/python3.7/site-packages (0.1.83)\r\n"
     ]
    }
   ],
   "source": [
    "import pandas as pd\n",
    "from tqdm import tqdm\n",
    "import re\n",
    "import sentencepiece as spm\n",
    "import matplotlib.pyplot as plt\n",
    "import numpy as np\n",
    "from sklearn import preprocessing\n",
    "import pickle\n",
    "from collections import Counter\n",
    "# function for removing emojis in texts\n",
    "import emoji\n",
    "# import sentencepiece tokenizer\n",
    "import sys\n",
    "!{sys.executable} -m pip install sentencepiece"
   ]
  },
  {
   "cell_type": "markdown",
   "metadata": {},
   "source": [
    "## Helper Method for Preprocessing Tweets (texts)"
   ]
  },
  {
   "cell_type": "code",
   "execution_count": 28,
   "metadata": {},
   "outputs": [],
   "source": [
    "# remove emojis, line carriage, @, and links from text\n",
    "def dirtyRemoval(text):\n",
    "    # remove emojis in texts\n",
    "    temp = emoji.get_emoji_regexp().sub(u'', text)\n",
    "    # merge multiple lines\n",
    "    temp = temp.replace(\"\\n\", \"\")\n",
    "    # remove '@'\n",
    "    temp = re.sub(r'\\@\\w+\\s', '', temp)\n",
    "    # remove links\n",
    "    temp = re.sub(r\"http\\S+\", \"\", temp)\n",
    "    return temp"
   ]
  },
  {
   "cell_type": "code",
   "execution_count": 42,
   "metadata": {},
   "outputs": [
    {
     "name": "stdout",
     "output_type": "stream",
     "text": [
      "RT @Hitz1039Fm: #MusikBox   w/ #DostyMan ️  I BELIEVE –  cc:  #Hitz1039FM \n"
     ]
    }
   ],
   "source": [
    "temp1 = \"\"\"RT @Hitz1039Fm: #MusikBox  🔥 w/ @andydosty #DostyMan 🇬🇭\n",
    "\n",
    "▶️  I BELIEVE – @ANDYDOSTY  🎧\n",
    "\n",
    "cc: @MrHaglah @MawuWan @FlyNimaBoy 💯 #Hitz1039FM 📢\"\"\"\n",
    "\n",
    "print(dirtyRemoval(temp1))"
   ]
  },
  {
   "cell_type": "markdown",
   "metadata": {},
   "source": [
    "## Preprocess test set texts, and merge files"
   ]
  },
  {
   "cell_type": "code",
   "execution_count": 40,
   "metadata": {},
   "outputs": [
    {
     "name": "stdout",
     "output_type": "stream",
     "text": [
      "572095\n",
      "1000000\n"
     ]
    }
   ],
   "source": [
    "# test set\n",
    "id_text = pd.read_csv('../data/full_test_id_text.csv', sep='\\t', header=[0], lineterminator='\\n')\n",
    "id_text.columns = ['ID', 'TEXT']\n",
    "\n",
    "id_emoji = pd.read_csv('../data/full_test_plaintext.txt', sep='\\t', header=[0], lineterminator='\\n')\n",
    "id_emoji.columns = ['ID','EMOJI']\n",
    "\n",
    "print(len(id_text))\n",
    "print(len(id_emoji))"
   ]
  },
  {
   "cell_type": "code",
   "execution_count": 41,
   "metadata": {},
   "outputs": [
    {
     "name": "stdout",
     "output_type": "stream",
     "text": [
      "<class 'str'>\n",
      "<class 'numpy.int64'>\n"
     ]
    }
   ],
   "source": [
    "print(type(id_emoji.ID.iloc[10]))\n",
    "print(type(id_text.ID.iloc[10]))\n",
    "id_text['ID'] = id_text['ID'].apply(str)"
   ]
  },
  {
   "cell_type": "code",
   "execution_count": 42,
   "metadata": {},
   "outputs": [
    {
     "name": "stdout",
     "output_type": "stream",
     "text": [
      "572095\n"
     ]
    }
   ],
   "source": [
    "# inner join the two dataframes\n",
    "text_emoji = pd.merge(id_text, id_emoji, on=\"ID\", how=\"inner\")\n",
    "\n",
    "print(len(text_emoji))"
   ]
  },
  {
   "cell_type": "code",
   "execution_count": 43,
   "metadata": {},
   "outputs": [],
   "source": [
    "text_emoji['TEXT'] = text_emoji.TEXT.apply(dirtyRemoval)"
   ]
  },
  {
   "cell_type": "code",
   "execution_count": 44,
   "metadata": {},
   "outputs": [],
   "source": [
    "text_emoji.to_csv('../data/text_emoji_test.txt', index=False)"
   ]
  },
  {
   "cell_type": "markdown",
   "metadata": {},
   "source": [
    "## Preprocess validation set texts, and merge files"
   ]
  },
  {
   "cell_type": "code",
   "execution_count": 45,
   "metadata": {},
   "outputs": [
    {
     "name": "stdout",
     "output_type": "stream",
     "text": [
      "571932\n",
      "1000000\n"
     ]
    }
   ],
   "source": [
    "# validation set\n",
    "id_text = pd.read_csv('../data/full_valid_id_text.csv', sep='\\t', header=[0], lineterminator='\\n')\n",
    "id_text.columns = ['ID', 'TEXT']\n",
    "id_text['ID'] = id_text['ID'].apply(str)\n",
    "\n",
    "id_emoji = pd.read_csv('../data/full_valid_plaintext.txt', sep='\\t', header=[0], lineterminator='\\n')\n",
    "id_emoji.columns = ['ID','EMOJI']\n",
    "\n",
    "print(len(id_text))\n",
    "print(len(id_emoji))"
   ]
  },
  {
   "cell_type": "code",
   "execution_count": 46,
   "metadata": {},
   "outputs": [
    {
     "name": "stdout",
     "output_type": "stream",
     "text": [
      "571932\n"
     ]
    }
   ],
   "source": [
    "text_emoji = pd.merge(id_text, id_emoji, on=\"ID\", how=\"inner\")\n",
    "print(len(text_emoji))\n",
    "text_emoji['TEXT'] = text_emoji.TEXT.apply(dirtyRemoval)\n",
    "text_emoji.to_csv('../data/text_emoji_valid.txt', index=False)"
   ]
  },
  {
   "cell_type": "markdown",
   "metadata": {},
   "source": [
    "## Preprocess training set texts, and merge files"
   ]
  },
  {
   "cell_type": "code",
   "execution_count": 47,
   "metadata": {},
   "outputs": [
    {
     "name": "stdout",
     "output_type": "stream",
     "text": [
      "7443390\n",
      "12997219\n"
     ]
    }
   ],
   "source": [
    "# training set\n",
    "id_text = pd.read_csv('../data/full_train_id_text.csv', sep='\\t', header=[0], lineterminator='\\n')\n",
    "id_text.columns = ['ID', 'TEXT']\n",
    "id_text['ID'] = id_text['ID'].apply(str)\n",
    "\n",
    "id_emoji = pd.read_csv('../data/full_train_plaintext.txt', sep='\\t', header=[0], lineterminator='\\n')\n",
    "id_emoji.columns = ['ID','EMOJI']\n",
    "\n",
    "\n",
    "print(len(id_text))\n",
    "print(len(id_emoji))"
   ]
  },
  {
   "cell_type": "code",
   "execution_count": 49,
   "metadata": {},
   "outputs": [
    {
     "name": "stdout",
     "output_type": "stream",
     "text": [
      "7443390\n"
     ]
    }
   ],
   "source": [
    "text_emoji = pd.merge(id_text, id_emoji, on=\"ID\", how=\"inner\")\n",
    "print(len(text_emoji))\n",
    "text_emoji['TEXT'] = text_emoji.TEXT.apply(dirtyRemoval)\n",
    "text_emoji.to_csv('../data/text_emoji_train.txt', index=False)"
   ]
  },
  {
   "cell_type": "markdown",
   "metadata": {},
   "source": [
    "## Tokenizing texts using SentencePiece"
   ]
  },
  {
   "cell_type": "code",
   "execution_count": 50,
   "metadata": {},
   "outputs": [],
   "source": [
    "# text for training tokenizer\n",
    "with open('../data/text_train.txt', 'w') as f:\n",
    "    for item in text_emoji['TEXT'].tolist():\n",
    "        f.write(\"%s\\n\" % item)\n"
   ]
  },
  {
   "cell_type": "code",
   "execution_count": 51,
   "metadata": {},
   "outputs": [
    {
     "data": {
      "text/plain": [
       "True"
      ]
     },
     "execution_count": 51,
     "metadata": {},
     "output_type": "execute_result"
    }
   ],
   "source": [
    "# train the SentencePiece tokenizer\n",
    "\n",
    "spm.SentencePieceTrainer.Train('--input=../data/text_train.txt --model_prefix=tokenizer --vocab_size=32000')\n"
   ]
  },
  {
   "cell_type": "code",
   "execution_count": 59,
   "metadata": {},
   "outputs": [
    {
     "name": "stdout",
     "output_type": "stream",
     "text": [
      "32000\n"
     ]
    }
   ],
   "source": [
    "# load tokenizer\n",
    "tokenizer = spm.SentencePieceProcessor()\n",
    "tokenizer.Load('./tokenizer.model')\n",
    "print(tokenizer.GetPieceSize())"
   ]
  },
  {
   "cell_type": "code",
   "execution_count": 102,
   "metadata": {},
   "outputs": [],
   "source": [
    "# tokenize training set texts\n",
    "train = pd.read_csv('../data/text_emoji_train.txt', sep=',', header=[0], lineterminator='\\n')\n",
    "train.columns = ['ID', 'TEXT', 'EMOJI']\n",
    "train['TEXT'] = train.TEXT.apply(str)\n",
    "train['TEXT_ID'] = train.TEXT.apply(tokenizer.EncodeAsIds)\n",
    "train.to_csv('../data/train.txt', index=False)"
   ]
  },
  {
   "cell_type": "code",
   "execution_count": 62,
   "metadata": {},
   "outputs": [
    {
     "name": "stdout",
     "output_type": "stream",
     "text": [
      "0          [445, 8, 858, 11, 137, 1518, 6, 31977, 27, 618...\n",
      "1          [12, 9, 11790, 38, 584, 15612, 13, 1178, 3166,...\n",
      "2                    [7190, 94, 8, 53, 194, 6591, 249, 4371]\n",
      "3                           [3, 163, 571, 65, 21, 4, 5, 249]\n",
      "4          [12, 9, 15, 11407, 228, 584, 9906, 13, 3047, 6...\n",
      "5          [78, 709, 56, 25, 1188, 10, 191, 4, 15, 53, 18...\n",
      "6          [158, 727, 241, 33, 106, 48, 139, 4499, 103, 4...\n",
      "7                     [1838, 3807, 873, 26, 14, 315, 80, 10]\n",
      "8             [480, 5493, 479, 337, 142, 3027, 8, 672, 2496]\n",
      "9          [12, 9, 16653, 11230, 16426, 13, 2956, 283, 6,...\n",
      "10         [12, 9, 3342, 89, 6272, 5833, 13, 78, 4204, 18...\n",
      "11         [12, 9, 22210, 5, 11211, 13, 52, 3, 88, 8, 60,...\n",
      "12                      [3, 124, 7, 8, 129, 7, 31, 1058, 74]\n",
      "13                    [233, 1402, 4648, 184, 40, 2262, 3191]\n",
      "14         [623, 143, 386, 357, 469, 311, 15, 123, 292, 1...\n",
      "15         [9388, 100, 8, 891, 1842, 906, 104, 1792, 1819...\n",
      "16                         [112, 26, 22, 65, 3, 83, 155, 70]\n",
      "17                                      [886, 294, 342, 650]\n",
      "18         [213, 407, 3, 4414, 18, 709, 30, 17, 28071, 3,...\n",
      "19         [60, 72, 43, 8, 3133, 22, 48, 50, 959, 131, 27...\n",
      "20                  [6268, 3, 57, 4, 15, 8315, 49, 32, 2063]\n",
      "21         [3, 23, 22726, 17, 21244, 5, 21, 4, 5, 708, 12...\n",
      "22                                          [28994, 20, 302]\n",
      "23         [21, 4, 5, 537, 37, 10, 67, 56, 541, 16, 41, 3...\n",
      "24         [3, 177, 40, 14, 193, 8824, 2898, 1495, 1568, ...\n",
      "25         [12, 9, 18333, 9341, 2038, 606, 988, 990, 8, 3...\n",
      "26         [6010, 3663, 714, 18, 319, 58, 646, 20, 21, 4,...\n",
      "27         [12, 9, 2898, 1928, 28711, 13, 71, 619, 33, 21...\n",
      "28           [1167, 26, 185, 222, 6320, 6837, 30, 332, 1256]\n",
      "29         [6376, 456, 6192, 195, 49, 143, 6, 7526, 618, ...\n",
      "                                 ...                        \n",
      "7443360    [210, 193, 29, 4, 5, 353, 85, 22, 55, 194, 325...\n",
      "7443361             [17, 2484, 941, 3, 641, 18, 1598, 11981]\n",
      "7443362            [3, 4, 23, 2979, 174, 3, 4, 23, 682, 840]\n",
      "7443363    [3, 4, 97, 244, 7572, 11, 1067, 29, 7, 4, 54, ...\n",
      "7443364                                       [988, 26, 529]\n",
      "7443365       [48, 736, 18, 7558, 8061, 16, 31, 208, 22, 39]\n",
      "7443366                                          [25251, 36]\n",
      "7443367    [259, 20, 42, 279, 108, 27, 47, 11956, 36, 11315]\n",
      "7443368                   [2166, 16, 56, 7, 384, 128, 19283]\n",
      "7443369                         [193, 48, 4, 23, 620, 24, 7]\n",
      "7443370     [12234, 885, 1217, 3, 50, 786, 951, 171, 9, 372]\n",
      "7443371    [3, 45, 4, 15, 186, 8, 366, 11, 131, 354, 3, 4...\n",
      "7443372    [7, 291, 1883, 402, 1276, 160, 22901, 35, 365,...\n",
      "7443373    [432, 24, 11, 237, 13982, 7018, 936, 2064, 20,...\n",
      "7443374                                           [72, 1911]\n",
      "7443375    [4580, 10124, 27, 3131, 10, 4580, 16, 4507, 14...\n",
      "7443376                                [3, 807, 82, 37, 198]\n",
      "7443377                                                [118]\n",
      "7443378                                 [848, 17, 15, 13137]\n",
      "7443379                     [94, 14, 593, 24, 18, 193, 1494]\n",
      "7443380    [3, 4, 23, 5873, 1123, 8, 63, 8, 2152, 32, 347...\n",
      "7443381    [10037, 644, 1714, 340, 1009, 9489, 964, 4355,...\n",
      "7443382    [528, 7, 37, 4208, 35, 156, 35, 378, 2335, 993...\n",
      "7443383        [224, 5, 519, 232, 121, 25260, 2219, 32, 235]\n",
      "7443384              [105, 266, 62, 25, 6, 25002, 16358, 19]\n",
      "7443385    [12, 9, 3607, 11035, 12351, 13, 1807, 136, 105...\n",
      "7443386    [12, 183, 14539, 175, 14307, 13, 3, 40, 13467,...\n",
      "7443387    [12, 9, 13042, 6206, 6235, 13, 3, 5, 47, 1347,...\n",
      "7443388    [3, 285, 2378, 95, 2634, 17153, 91, 18, 3292, ...\n",
      "7443389    [1396, 13, 11456, 15, 5, 46, 44, 39, 3642, 85,...\n",
      "Name: TEXT_ID, Length: 7443390, dtype: object\n",
      "512 2 62.443397027429704\n"
     ]
    }
   ],
   "source": [
    "train.columns = ['ID', 'TEXT', 'EMOJI', 'TEXT_ID']\n",
    "print(train['TEXT_ID'])\n",
    "# check sentence length statistics\n",
    "tempList = train.TEXT_ID.tolist()\n",
    "lengthList = [len(i) for i in tempList]\n",
    "maxLength = max(lengthList)\n",
    "minLength = min(lengthList)\n",
    "avgLength = sum(lengthList)/len(lengthList)\n",
    "print(maxLength, minLength, avgLength)\n",
    "\n"
   ]
  },
  {
   "cell_type": "code",
   "execution_count": 63,
   "metadata": {},
   "outputs": [
    {
     "data": {
      "text/plain": [
       "(array([2.40000e+01, 2.00000e+00, 2.47500e+03, 4.48230e+04, 6.17460e+04,\n",
       "        3.01630e+04, 3.08000e+04, 4.98260e+04, 9.61360e+04, 8.62980e+04,\n",
       "        7.82000e+04, 6.94910e+04, 7.61340e+04, 9.32690e+04, 9.53520e+04,\n",
       "        8.26340e+04, 8.21030e+04, 9.15740e+04, 1.03467e+05, 9.53580e+04,\n",
       "        9.04550e+04, 8.71460e+04, 9.08660e+04, 9.03470e+04, 8.71680e+04,\n",
       "        8.41850e+04, 8.52920e+04, 8.56450e+04, 8.43810e+04, 8.19840e+04,\n",
       "        8.05800e+04, 7.94750e+04, 8.03780e+04, 7.96910e+04, 7.84230e+04,\n",
       "        7.71370e+04, 7.75310e+04, 7.64900e+04, 7.73480e+04, 7.55360e+04,\n",
       "        7.46540e+04, 7.73190e+04, 7.38970e+04, 7.41280e+04, 7.36820e+04,\n",
       "        7.24190e+04, 7.16070e+04, 7.14340e+04, 7.10990e+04, 6.96590e+04,\n",
       "        6.86430e+04, 6.81470e+04, 6.66610e+04, 6.65430e+04, 6.57070e+04,\n",
       "        6.39360e+04, 6.32800e+04, 6.20750e+04, 6.17470e+04, 6.05240e+04,\n",
       "        5.99960e+04, 5.88300e+04, 5.78430e+04, 5.70110e+04, 5.53320e+04,\n",
       "        5.40220e+04, 5.37220e+04, 5.28960e+04, 5.25520e+04, 5.11010e+04,\n",
       "        4.93050e+04, 4.92940e+04, 4.78910e+04, 4.74080e+04, 4.60210e+04,\n",
       "        4.56850e+04, 4.52370e+04, 4.36200e+04, 4.32390e+04, 4.24240e+04,\n",
       "        4.21670e+04, 4.17940e+04, 4.07480e+04, 4.02580e+04, 3.96310e+04,\n",
       "        3.88590e+04, 3.87480e+04, 3.78620e+04, 3.68200e+04, 3.61020e+04,\n",
       "        3.52930e+04, 3.54390e+04, 3.56330e+04, 3.49390e+04, 3.33080e+04,\n",
       "        3.38400e+04, 3.32880e+04, 3.36230e+04, 3.20220e+04, 3.26400e+04,\n",
       "        3.11440e+04, 3.14580e+04, 3.20470e+04, 3.01370e+04, 3.06500e+04,\n",
       "        2.94570e+04, 2.98930e+04, 2.90580e+04, 2.87680e+04, 2.79640e+04,\n",
       "        2.78320e+04, 2.71280e+04, 2.63690e+04, 2.54580e+04, 2.54560e+04,\n",
       "        2.69640e+04, 2.58010e+04, 2.44480e+04, 2.41630e+04, 2.37040e+04,\n",
       "        2.33920e+04, 2.29430e+04, 2.28110e+04, 2.27820e+04, 2.19080e+04,\n",
       "        2.17860e+04, 2.13010e+04, 2.10260e+04, 2.10560e+04, 2.00800e+04,\n",
       "        2.01050e+04, 1.97620e+04, 1.96080e+04, 1.88490e+04, 1.83290e+04,\n",
       "        1.78130e+04, 1.85140e+04, 1.78760e+04, 1.67060e+04, 1.68230e+04,\n",
       "        1.86070e+04, 1.55940e+04, 1.50290e+04, 1.47900e+04, 1.43770e+04,\n",
       "        1.43610e+04, 1.43140e+04, 1.28080e+04, 1.34310e+04, 1.23370e+04,\n",
       "        1.21170e+04, 1.20780e+04, 1.11180e+04, 1.17800e+04, 1.07100e+04,\n",
       "        1.18410e+04, 1.00970e+04, 1.06790e+04, 8.91800e+03, 8.98000e+03,\n",
       "        9.06000e+03, 8.52500e+03, 7.65200e+03, 7.43800e+03, 6.99500e+03,\n",
       "        7.72700e+03, 6.58100e+03, 6.39900e+03, 5.94500e+03, 5.56900e+03,\n",
       "        5.23500e+03, 4.99200e+03, 5.40400e+03, 4.65100e+03, 4.55200e+03,\n",
       "        4.16700e+03, 4.50200e+03, 3.90900e+03, 3.60000e+03, 3.67100e+03,\n",
       "        3.31000e+03, 3.18900e+03, 3.11700e+03, 2.98500e+03, 2.77700e+03,\n",
       "        2.60400e+03, 2.61700e+03, 2.37700e+03, 2.24000e+03, 2.13900e+03,\n",
       "        2.08100e+03, 1.91700e+03, 1.84800e+03, 1.77200e+03, 1.70600e+03,\n",
       "        1.45000e+03, 1.41700e+03, 1.40000e+03, 1.36900e+03, 1.25300e+03,\n",
       "        1.18900e+03, 1.20700e+03, 1.06200e+03, 1.04200e+03, 9.50000e+02,\n",
       "        9.16000e+02, 8.65000e+02, 8.47000e+02, 8.24000e+02, 7.83000e+02,\n",
       "        6.85000e+02, 6.96000e+02, 6.55000e+02, 6.13000e+02, 5.86000e+02,\n",
       "        5.80000e+02, 5.36000e+02, 5.00000e+02, 4.61000e+02, 4.70000e+02,\n",
       "        4.04000e+02, 4.16000e+02, 3.79000e+02, 3.79000e+02, 3.50000e+02,\n",
       "        3.33000e+02, 3.33000e+02, 2.84000e+02, 2.71000e+02, 2.82000e+02,\n",
       "        2.63000e+02, 2.28000e+02, 2.20000e+02, 2.27000e+02, 2.07000e+02,\n",
       "        1.90000e+02, 2.16000e+02, 1.92000e+02, 1.71000e+02, 1.78000e+02,\n",
       "        1.58000e+02, 1.51000e+02, 1.52000e+02, 1.42000e+02, 1.41000e+02,\n",
       "        1.09000e+02, 9.50000e+01, 1.14000e+02, 9.90000e+01, 8.90000e+01,\n",
       "        9.80000e+01, 9.00000e+01, 9.60000e+01, 9.10000e+01, 9.00000e+01,\n",
       "        7.50000e+01, 6.20000e+01, 6.90000e+01, 6.70000e+01, 5.30000e+01,\n",
       "        5.60000e+01, 7.20000e+01, 7.90000e+01, 4.40000e+01, 6.00000e+01,\n",
       "        4.70000e+01, 4.20000e+01, 4.80000e+01, 4.20000e+01, 4.30000e+01,\n",
       "        3.90000e+01, 3.20000e+01, 3.40000e+01, 4.80000e+01, 2.00000e+01,\n",
       "        3.00000e+01, 2.90000e+01, 2.50000e+01, 3.40000e+01, 1.90000e+01,\n",
       "        2.60000e+01, 2.30000e+01, 1.70000e+01, 1.60000e+01, 1.70000e+01,\n",
       "        1.90000e+01, 1.90000e+01, 1.80000e+01, 2.00000e+01, 1.10000e+01,\n",
       "        1.30000e+01, 1.00000e+01, 1.10000e+01, 1.00000e+01, 8.00000e+00,\n",
       "        1.20000e+01, 7.00000e+00, 1.10000e+01, 5.00000e+00, 4.00000e+00,\n",
       "        1.00000e+01, 9.00000e+00, 8.00000e+00, 9.00000e+00, 3.00000e+00,\n",
       "        1.40000e+01, 9.00000e+00, 5.00000e+00, 8.00000e+00, 1.20000e+01,\n",
       "        5.00000e+00, 2.00000e+00, 3.00000e+00, 3.00000e+00, 2.00000e+00,\n",
       "        4.00000e+00, 2.00000e+00, 6.00000e+00, 2.00000e+00, 2.00000e+00,\n",
       "        8.00000e+00, 4.00000e+00, 2.00000e+00, 2.00000e+00, 4.00000e+00,\n",
       "        4.00000e+00, 2.00000e+00, 1.00000e+00, 1.00000e+00, 1.00000e+00,\n",
       "        1.00000e+00, 3.00000e+00, 0.00000e+00, 0.00000e+00, 2.00000e+00,\n",
       "        3.00000e+00, 0.00000e+00, 2.00000e+00, 1.00000e+00, 1.00000e+00,\n",
       "        2.00000e+00, 3.00000e+00, 3.00000e+00, 1.00000e+00, 0.00000e+00,\n",
       "        1.00000e+00, 2.00000e+00, 0.00000e+00, 1.00000e+00, 0.00000e+00,\n",
       "        0.00000e+00, 3.00000e+00, 2.00000e+00, 3.00000e+00, 5.00000e+00,\n",
       "        0.00000e+00, 4.00000e+00, 0.00000e+00, 2.00000e+00, 1.00000e+00,\n",
       "        1.00000e+00, 2.00000e+00, 0.00000e+00, 0.00000e+00, 0.00000e+00,\n",
       "        0.00000e+00, 1.00000e+00, 0.00000e+00, 3.00000e+00, 0.00000e+00,\n",
       "        0.00000e+00, 1.00000e+00, 0.00000e+00, 1.00000e+00, 1.00000e+00,\n",
       "        2.00000e+00, 0.00000e+00, 0.00000e+00, 0.00000e+00, 0.00000e+00,\n",
       "        0.00000e+00, 1.00000e+00, 0.00000e+00, 0.00000e+00, 1.00000e+00,\n",
       "        0.00000e+00, 0.00000e+00, 1.00000e+00, 0.00000e+00, 1.00000e+00,\n",
       "        1.00000e+00, 0.00000e+00, 0.00000e+00, 0.00000e+00, 0.00000e+00,\n",
       "        0.00000e+00, 0.00000e+00, 0.00000e+00, 0.00000e+00, 0.00000e+00,\n",
       "        0.00000e+00, 0.00000e+00, 0.00000e+00, 1.00000e+00, 0.00000e+00,\n",
       "        0.00000e+00, 0.00000e+00, 1.00000e+00, 1.00000e+00, 1.00000e+00,\n",
       "        0.00000e+00, 0.00000e+00, 0.00000e+00, 0.00000e+00, 0.00000e+00,\n",
       "        0.00000e+00, 0.00000e+00, 0.00000e+00, 0.00000e+00, 0.00000e+00,\n",
       "        0.00000e+00, 0.00000e+00, 0.00000e+00, 1.00000e+00, 0.00000e+00,\n",
       "        0.00000e+00, 0.00000e+00, 0.00000e+00, 0.00000e+00, 0.00000e+00,\n",
       "        0.00000e+00, 1.00000e+00, 0.00000e+00, 0.00000e+00, 1.00000e+00,\n",
       "        0.00000e+00, 0.00000e+00, 1.00000e+00, 0.00000e+00, 1.00000e+00,\n",
       "        1.00000e+00, 0.00000e+00, 0.00000e+00, 0.00000e+00, 2.00000e+00,\n",
       "        0.00000e+00, 0.00000e+00, 0.00000e+00, 0.00000e+00, 0.00000e+00,\n",
       "        0.00000e+00, 0.00000e+00, 0.00000e+00, 0.00000e+00, 0.00000e+00,\n",
       "        0.00000e+00, 0.00000e+00, 0.00000e+00, 0.00000e+00, 0.00000e+00,\n",
       "        0.00000e+00, 0.00000e+00, 0.00000e+00, 0.00000e+00, 0.00000e+00,\n",
       "        0.00000e+00, 0.00000e+00, 0.00000e+00, 0.00000e+00, 0.00000e+00,\n",
       "        0.00000e+00, 0.00000e+00, 0.00000e+00, 0.00000e+00, 0.00000e+00,\n",
       "        0.00000e+00, 0.00000e+00, 0.00000e+00, 0.00000e+00, 0.00000e+00,\n",
       "        1.00000e+00, 0.00000e+00, 0.00000e+00, 0.00000e+00, 0.00000e+00,\n",
       "        0.00000e+00, 0.00000e+00, 0.00000e+00, 0.00000e+00, 1.00000e+00,\n",
       "        0.00000e+00, 0.00000e+00, 0.00000e+00, 0.00000e+00, 0.00000e+00,\n",
       "        0.00000e+00, 0.00000e+00, 0.00000e+00, 0.00000e+00, 0.00000e+00,\n",
       "        0.00000e+00, 0.00000e+00, 0.00000e+00, 0.00000e+00, 0.00000e+00,\n",
       "        0.00000e+00, 0.00000e+00, 0.00000e+00, 0.00000e+00, 1.00000e+00]),\n",
       " array([  2,   3,   4,   5,   6,   7,   8,   9,  10,  11,  12,  13,  14,\n",
       "         15,  16,  17,  18,  19,  20,  21,  22,  23,  24,  25,  26,  27,\n",
       "         28,  29,  30,  31,  32,  33,  34,  35,  36,  37,  38,  39,  40,\n",
       "         41,  42,  43,  44,  45,  46,  47,  48,  49,  50,  51,  52,  53,\n",
       "         54,  55,  56,  57,  58,  59,  60,  61,  62,  63,  64,  65,  66,\n",
       "         67,  68,  69,  70,  71,  72,  73,  74,  75,  76,  77,  78,  79,\n",
       "         80,  81,  82,  83,  84,  85,  86,  87,  88,  89,  90,  91,  92,\n",
       "         93,  94,  95,  96,  97,  98,  99, 100, 101, 102, 103, 104, 105,\n",
       "        106, 107, 108, 109, 110, 111, 112, 113, 114, 115, 116, 117, 118,\n",
       "        119, 120, 121, 122, 123, 124, 125, 126, 127, 128, 129, 130, 131,\n",
       "        132, 133, 134, 135, 136, 137, 138, 139, 140, 141, 142, 143, 144,\n",
       "        145, 146, 147, 148, 149, 150, 151, 152, 153, 154, 155, 156, 157,\n",
       "        158, 159, 160, 161, 162, 163, 164, 165, 166, 167, 168, 169, 170,\n",
       "        171, 172, 173, 174, 175, 176, 177, 178, 179, 180, 181, 182, 183,\n",
       "        184, 185, 186, 187, 188, 189, 190, 191, 192, 193, 194, 195, 196,\n",
       "        197, 198, 199, 200, 201, 202, 203, 204, 205, 206, 207, 208, 209,\n",
       "        210, 211, 212, 213, 214, 215, 216, 217, 218, 219, 220, 221, 222,\n",
       "        223, 224, 225, 226, 227, 228, 229, 230, 231, 232, 233, 234, 235,\n",
       "        236, 237, 238, 239, 240, 241, 242, 243, 244, 245, 246, 247, 248,\n",
       "        249, 250, 251, 252, 253, 254, 255, 256, 257, 258, 259, 260, 261,\n",
       "        262, 263, 264, 265, 266, 267, 268, 269, 270, 271, 272, 273, 274,\n",
       "        275, 276, 277, 278, 279, 280, 281, 282, 283, 284, 285, 286, 287,\n",
       "        288, 289, 290, 291, 292, 293, 294, 295, 296, 297, 298, 299, 300,\n",
       "        301, 302, 303, 304, 305, 306, 307, 308, 309, 310, 311, 312, 313,\n",
       "        314, 315, 316, 317, 318, 319, 320, 321, 322, 323, 324, 325, 326,\n",
       "        327, 328, 329, 330, 331, 332, 333, 334, 335, 336, 337, 338, 339,\n",
       "        340, 341, 342, 343, 344, 345, 346, 347, 348, 349, 350, 351, 352,\n",
       "        353, 354, 355, 356, 357, 358, 359, 360, 361, 362, 363, 364, 365,\n",
       "        366, 367, 368, 369, 370, 371, 372, 373, 374, 375, 376, 377, 378,\n",
       "        379, 380, 381, 382, 383, 384, 385, 386, 387, 388, 389, 390, 391,\n",
       "        392, 393, 394, 395, 396, 397, 398, 399, 400, 401, 402, 403, 404,\n",
       "        405, 406, 407, 408, 409, 410, 411, 412, 413, 414, 415, 416, 417,\n",
       "        418, 419, 420, 421, 422, 423, 424, 425, 426, 427, 428, 429, 430,\n",
       "        431, 432, 433, 434, 435, 436, 437, 438, 439, 440, 441, 442, 443,\n",
       "        444, 445, 446, 447, 448, 449, 450, 451, 452, 453, 454, 455, 456,\n",
       "        457, 458, 459, 460, 461, 462, 463, 464, 465, 466, 467, 468, 469,\n",
       "        470, 471, 472, 473, 474, 475, 476, 477, 478, 479, 480, 481, 482,\n",
       "        483, 484, 485, 486, 487, 488, 489, 490, 491, 492, 493, 494, 495,\n",
       "        496, 497, 498, 499, 500, 501, 502, 503, 504, 505, 506, 507, 508,\n",
       "        509, 510, 511, 512]),\n",
       " <a list of 510 Patch objects>)"
      ]
     },
     "execution_count": 63,
     "metadata": {},
     "output_type": "execute_result"
    },
    {
     "data": {
      "image/png": "[encoded data removed]",
      "text/plain": [
       "<Figure size 432x288 with 1 Axes>"
      ]
     },
     "metadata": {
      "needs_background": "light"
     },
     "output_type": "display_data"
    }
   ],
   "source": [
    "plt.hist(lengthList, bins=np.arange(minLength, maxLength+1))"
   ]
  },
  {
   "cell_type": "markdown",
   "metadata": {},
   "source": [
    "## Encode class labels using LabelEncoder"
   ]
  },
  {
   "cell_type": "code",
   "execution_count": 9,
   "metadata": {},
   "outputs": [
    {
     "name": "stdout",
     "output_type": "stream",
     "text": [
      "1300\n"
     ]
    }
   ],
   "source": [
    "# get all classes from training set\n",
    "# train = pd.read_csv('../data/train.txt', sep=',', header=[0], lineterminator='\\n')\n",
    "# train.columns = ['ID', 'TEXT', 'EMOJI', 'TEXT_ID']\n",
    "emoji_set = set()\n",
    "for i in train['EMOJI'].tolist():\n",
    "    emoji_set = emoji_set.union(set(i.split(',')))\n",
    "    \n",
    "print(len(emoji_set))"
   ]
  },
  {
   "cell_type": "code",
   "execution_count": 28,
   "metadata": {},
   "outputs": [
    {
     "data": {
      "text/plain": [
       "1300"
      ]
     },
     "execution_count": 28,
     "metadata": {},
     "output_type": "execute_result"
    }
   ],
   "source": [
    "# encode multi-class labels\n",
    "\n",
    "le = preprocessing.LabelEncoder()\n",
    "\n",
    "emoji_list = list(emoji_set)\n",
    "le.fit(emoji_list)\n",
    "\n",
    "len(le.classes_)\n"
   ]
  },
  {
   "cell_type": "code",
   "execution_count": 29,
   "metadata": {},
   "outputs": [],
   "source": [
    "# save the label encoder using pickle\n",
    "\n",
    "with open('labelEncoder.pickle', 'wb') as handle:\n",
    "    pickle.dump(le, handle, protocol=pickle.HIGHEST_PROTOCOL)\n",
    "\n",
    "    \n",
    "    \n"
   ]
  },
  {
   "cell_type": "code",
   "execution_count": 103,
   "metadata": {},
   "outputs": [],
   "source": [
    "# use scripts below to load model\n",
    "with open('labelEncoder.pickle', 'rb') as handle:\n",
    "    le = pickle.load(handle)"
   ]
  },
  {
   "cell_type": "code",
   "execution_count": 104,
   "metadata": {},
   "outputs": [],
   "source": [
    "# split the string in \"EMOJI\" into multiple emoji IDs\n",
    "def listEmoji(string):\n",
    "    return string.split(',')\n"
   ]
  },
  {
   "cell_type": "code",
   "execution_count": 105,
   "metadata": {},
   "outputs": [
    {
     "name": "stdout",
     "output_type": "stream",
     "text": [
      "0                [762, 859, 865]\n",
      "1                     [77, 1381]\n",
      "2                         [1420]\n",
      "3                         [1438]\n",
      "4                         [1403]\n",
      "5             [1107, 1424, 1466]\n",
      "6                   [1056, 1381]\n",
      "7                         [1447]\n",
      "8               [550, 764, 1069]\n",
      "9                   [1105, 1403]\n",
      "10              [174, 550, 1097]\n",
      "11                   [763, 1057]\n",
      "12                        [1397]\n",
      "13                        [1056]\n",
      "14                   [761, 1475]\n",
      "15                         [865]\n",
      "16                        [1381]\n",
      "17                     [47, 883]\n",
      "18                        [1445]\n",
      "19                        [1381]\n",
      "20                        [1381]\n",
      "21                        [1381]\n",
      "22                        [1466]\n",
      "23                        [1407]\n",
      "24                        [1421]\n",
      "25                        [1447]\n",
      "26                        [1381]\n",
      "27                        [1466]\n",
      "28                    [763, 883]\n",
      "29         [763, 764, 765, 1341]\n",
      "                   ...          \n",
      "7443360               [764, 883]\n",
      "7443361                   [1447]\n",
      "7443362              [764, 1493]\n",
      "7443363                    [546]\n",
      "7443364                   [1107]\n",
      "7443365                    [545]\n",
      "7443366                   [1466]\n",
      "7443367                    [883]\n",
      "7443368                    [830]\n",
      "7443369                    [675]\n",
      "7443370             [1432, 1620]\n",
      "7443371                     [78]\n",
      "7443372                   [1430]\n",
      "7443373                   [1444]\n",
      "7443374                   [1397]\n",
      "7443375                   [1210]\n",
      "7443376                   [1381]\n",
      "7443377              [763, 1475]\n",
      "7443378                   [1406]\n",
      "7443379                   [1447]\n",
      "7443380                   [1424]\n",
      "7443381                     [78]\n",
      "7443382       [1436, 1438, 1454]\n",
      "7443383                   [1389]\n",
      "7443384                   [1379]\n",
      "7443385                   [1381]\n",
      "7443386                   [1056]\n",
      "7443387               [761, 865]\n",
      "7443388                   [1116]\n",
      "7443389                   [1213]\n",
      "Name: EMOJI, Length: 7443390, dtype: object\n"
     ]
    }
   ],
   "source": [
    "train['EMOJI'] = train.EMOJI.apply(listEmoji)\n",
    "print(train.EMOJI)\n",
    "\n"
   ]
  },
  {
   "cell_type": "code",
   "execution_count": 106,
   "metadata": {},
   "outputs": [
    {
     "name": "stdout",
     "output_type": "stream",
     "text": [
      "0               [1157, 1243, 1245]\n",
      "1                      [1165, 317]\n",
      "2                            [361]\n",
      "3                            [380]\n",
      "4                            [342]\n",
      "5                   [50, 365, 394]\n",
      "6                        [23, 317]\n",
      "7                            [390]\n",
      "8                  [952, 1159, 27]\n",
      "9                        [48, 342]\n",
      "10                  [521, 952, 38]\n",
      "11                      [1158, 24]\n",
      "12                           [334]\n",
      "13                            [23]\n",
      "14                     [1156, 398]\n",
      "15                          [1245]\n",
      "16                           [317]\n",
      "17                     [862, 1250]\n",
      "18                           [388]\n",
      "19                           [317]\n",
      "20                           [317]\n",
      "21                           [317]\n",
      "22                           [394]\n",
      "23                           [346]\n",
      "24                           [362]\n",
      "25                           [390]\n",
      "26                           [317]\n",
      "27                           [394]\n",
      "28                    [1158, 1250]\n",
      "29         [1158, 1159, 1160, 287]\n",
      "                    ...           \n",
      "7443360               [1159, 1250]\n",
      "7443361                      [390]\n",
      "7443362                [1159, 401]\n",
      "7443363                      [947]\n",
      "7443364                       [50]\n",
      "7443365                      [946]\n",
      "7443366                      [394]\n",
      "7443367                     [1250]\n",
      "7443368                     [1233]\n",
      "7443369                     [1081]\n",
      "7443370                 [374, 499]\n",
      "7443371                     [1176]\n",
      "7443372                      [372]\n",
      "7443373                      [387]\n",
      "7443374                      [334]\n",
      "7443375                      [160]\n",
      "7443376                      [317]\n",
      "7443377                [1158, 398]\n",
      "7443378                      [345]\n",
      "7443379                      [390]\n",
      "7443380                      [365]\n",
      "7443381                     [1176]\n",
      "7443382            [378, 380, 392]\n",
      "7443383                      [325]\n",
      "7443384                      [314]\n",
      "7443385                      [317]\n",
      "7443386                       [23]\n",
      "7443387               [1156, 1245]\n",
      "7443388                       [60]\n",
      "7443389                      [163]\n",
      "Name: EMOJI_ID, Length: 7443390, dtype: object\n"
     ]
    }
   ],
   "source": [
    "train['EMOJI_ID'] = train.EMOJI.apply(le.transform)\n",
    "print(train.EMOJI_ID)"
   ]
  },
  {
   "cell_type": "code",
   "execution_count": 48,
   "metadata": {},
   "outputs": [],
   "source": [
    "train.to_csv('../data/train_final.txt', index=False)"
   ]
  },
  {
   "cell_type": "code",
   "execution_count": 107,
   "metadata": {},
   "outputs": [
    {
     "data": {
      "text/plain": [
       "(array([1.9700e+02, 8.0000e+00, 2.6700e+02, ..., 1.0753e+04, 1.2900e+03,\n",
       "        2.2990e+03]),\n",
       " array([   0,    1,    2, ..., 1297, 1298, 1299]),\n",
       " <a list of 1299 Patch objects>)"
      ]
     },
     "execution_count": 107,
     "metadata": {},
     "output_type": "execute_result"
    },
    {
     "data": {
      "image/png": "[encoded data removed]",
      "text/plain": [
       "<Figure size 432x288 with 1 Axes>"
      ]
     },
     "metadata": {
      "needs_background": "light"
     },
     "output_type": "display_data"
    }
   ],
   "source": [
    "# Statistics for class labels:\n",
    "\n",
    "allTrainEmoji = []\n",
    "for i in train['EMOJI_ID'].tolist():\n",
    "    allTrainEmoji += list(set(i.tolist()))\n",
    "\n",
    "plt.hist(allTrainEmoji, bins=np.arange(0, len(le.classes_)))\n",
    "\n",
    "\n"
   ]
  },
  {
   "cell_type": "code",
   "execution_count": 108,
   "metadata": {},
   "outputs": [
    {
     "name": "stdout",
     "output_type": "stream",
     "text": [
      "[(317, 782111), (329, 302374), (365, 287556), (552, 287442), (390, 269360)]\n",
      "originalID:  ['1381' '1392' '1424' '186' '1447']\n",
      "7735.71\n"
     ]
    }
   ],
   "source": [
    "# Counts for each label\n",
    "counts = Counter(allTrainEmoji)\n",
    "\n",
    "# 5 most common emojis\n",
    "mostCommon5 = counts.most_common(5)\n",
    "print(mostCommon5)\n",
    "\n",
    "# Original IDs (+2 to refer to CSV mapping) of the most common 5 emojis\n",
    "originalID = le.inverse_transform([i[0] for i in mostCommon5])\n",
    "print(\"originalID: \", originalID)\n",
    "\n",
    "# average counts\n",
    "print(sum(counts.values())/len(counts.values()))\n"
   ]
  },
  {
   "cell_type": "code",
   "execution_count": 47,
   "metadata": {},
   "outputs": [
    {
     "data": {
      "text/plain": [
       "7443390"
      ]
     },
     "execution_count": 47,
     "metadata": {},
     "output_type": "execute_result"
    }
   ],
   "source": [
    "# create CSR Matrix based on EMOJI_ID\n",
    "shape_csr = (len(train), len(le.classes_))\n",
    "\n",
    "row = []\n",
    "col = []\n",
    "\n",
    "row_idx = 0\n",
    "for c, emoji_ids in enumerate(train.EMOJI_ID.tolist()):\n",
    "    tempEmoji = set(emoji_ids)\n",
    "    row += [row_idx] * len(tempEmoji)  \n",
    "    col += emoji_ids.tolist()\n",
    "    row_idx += 1\n",
    "        \n"
   ]
  },
  {
   "cell_type": "code",
   "execution_count": 109,
   "metadata": {},
   "outputs": [],
   "source": [
    "with open('../data/train.pickle', 'wb') as handle:\n",
    "    pickle.dump(train, handle, protocol=pickle.HIGHEST_PROTOCOL)"
   ]
  },
  {
   "cell_type": "code",
   "execution_count": 110,
   "metadata": {},
   "outputs": [],
   "source": [
    "trainSuccinct = train[['TEXT_ID', 'EMOJI_ID']]\n",
    "trainSuccinct.to_csv('../data/train_final_succinct.txt', index=False)\n",
    "\n"
   ]
  },
  {
   "cell_type": "code",
   "execution_count": 111,
   "metadata": {},
   "outputs": [],
   "source": [
    "with open('../data/train_succinct.pickle', 'wb') as handle:\n",
    "    pickle.dump(trainSuccinct, handle, protocol=pickle.HIGHEST_PROTOCOL)"
   ]
  },
  {
   "cell_type": "markdown",
   "metadata": {},
   "source": [
    "## Try only use top-50 emojis"
   ]
  },
  {
   "cell_type": "code",
   "execution_count": 112,
   "metadata": {},
   "outputs": [],
   "source": [
    "mostCommon50 = counts.most_common(50)\n",
    "ID50 = set([i[0] for i in mostCommon50])\n",
    "\n",
    "with open('../data/train_succinct.pickle', 'rb') as handle:\n",
    "    trainSuccinct50 = pickle.load(handle)\n",
    "\n",
    "trainSuccinct50.columns = ['TEXT_ID', 'EMOJI_ID']\n"
   ]
  },
  {
   "cell_type": "code",
   "execution_count": 113,
   "metadata": {},
   "outputs": [],
   "source": [
    "trainSuccinct50['EMOJI_ID'] = trainSuccinct50.EMOJI_ID.apply(ID50.intersection)\n",
    "trainSuccinct50['EMOJI_ID'] = trainSuccinct50['EMOJI_ID'].apply(list)"
   ]
  },
  {
   "cell_type": "code",
   "execution_count": 114,
   "metadata": {},
   "outputs": [
    {
     "name": "stdout",
     "output_type": "stream",
     "text": [
      "50\n"
     ]
    }
   ],
   "source": [
    "# verify we have only top 50 codes\n",
    "\n",
    "temp = set()\n",
    "for i in trainSuccinct50.EMOJI_ID.tolist():\n",
    "    temp.update(set(i))\n",
    "\n",
    "print(len(temp))"
   ]
  },
  {
   "cell_type": "code",
   "execution_count": 115,
   "metadata": {},
   "outputs": [],
   "source": [
    "with open('../data/train_succinct50.pickle', 'wb') as handle:\n",
    "    pickle.dump(trainSuccinct50, handle, protocol=pickle.HIGHEST_PROTOCOL)"
   ]
  },
  {
   "cell_type": "code",
   "execution_count": 116,
   "metadata": {},
   "outputs": [
    {
     "data": {
      "text/plain": [
       "list"
      ]
     },
     "execution_count": 116,
     "metadata": {},
     "output_type": "execute_result"
    }
   ],
   "source": []
  },
  {
   "cell_type": "code",
   "execution_count": null,
   "metadata": {},
   "outputs": [],
   "source": []
  }
 ],
 "metadata": {
  "kernelspec": {
   "display_name": "Python 3",
   "language": "python",
   "name": "python3"
  },
  "language_info": {
   "codemirror_mode": {
    "name": "ipython",
    "version": 3
   },
   "file_extension": ".py",
   "mimetype": "text/x-python",
   "name": "python",
   "nbconvert_exporter": "python",
   "pygments_lexer": "ipython3",
   "version": "3.7.1"
  }
 },
 "nbformat": 4,
 "nbformat_minor": 2
}
